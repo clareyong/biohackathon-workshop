{
 "cells": [
  {
   "cell_type": "markdown",
   "metadata": {},
   "source": [
    "## Printing"
   ]
  },
  {
   "cell_type": "code",
   "execution_count": null,
   "metadata": {},
   "outputs": [],
   "source": [
    "# Print here\n",
    "print('my name is clare')"
   ]
  },
  {
   "cell_type": "markdown",
   "metadata": {},
   "source": [
    "## Variables"
   ]
  },
  {
   "cell_type": "markdown",
   "metadata": {},
   "source": [
    "Variables are used to store information or values such as a number or words. To create a variable in python, write the name of the variables and assign it to a value\n",
    "\n",
    "variable_name = Value\n",
    "\n",
    "Note that the equal sign here is for assigning a variable, not to indicate equality"
   ]
  },
  {
   "cell_type": "code",
   "execution_count": null,
   "metadata": {},
   "outputs": [],
   "source": [
    "# Make your variables here and try printing it!\n",
    "a = 'hello, world'\n",
    "b = 5\n",
    "\n",
    "print(a, b)"
   ]
  },
  {
   "cell_type": "code",
   "execution_count": null,
   "metadata": {},
   "outputs": [],
   "source": [
    "# How is this useful?\n",
    "# Let's calculate the perimeter of a triangle\n",
    "side_a = 6\n",
    "side_b = 4\n",
    "side_c = 5\n",
    "side_d = 9\n",
    "\n",
    "total = side_a + side_b + side_c + side_d\n",
    "\n",
    "print('Total perimeter of quadrilateral is', total)\n",
    "# What if you want to calculate the perimeter of a square instead?"
   ]
  },
  {
   "cell_type": "markdown",
   "metadata": {},
   "source": [
    "## Naming variables\n",
    "\n",
    "\n",
    "1. Must begin with a letter (a - z, A - B) or underscore (_)\n",
    "2. Other characters can be letters, numbers or _\n",
    "3. Do not use Python keywords\n",
    "4. Case Sensitive\n",
    "5. Meaningful names"
   ]
  },
  {
   "cell_type": "code",
   "execution_count": null,
   "metadata": {},
   "outputs": [],
   "source": [
    "a = 'AGCT'\n",
    "dna_strand = 'AGCT'"
   ]
  },
  {
   "cell_type": "markdown",
   "metadata": {},
   "source": [
    "## Data types\n",
    "\n",
    "### 1. String\n",
    "\n",
    "Character data \n",
    "\n",
    "Use '<string_here>' or \"<string_here>\" to declare strings"
   ]
  },
  {
   "cell_type": "code",
   "execution_count": 2,
   "metadata": {},
   "outputs": [
    {
     "name": "stdout",
     "output_type": "stream",
     "text": [
      "Sunday\n"
     ]
    }
   ],
   "source": [
    "day = \"Sunday\"\n",
    "print(day)"
   ]
  },
  {
   "cell_type": "markdown",
   "metadata": {},
   "source": [
    "### 2. Integers\n",
    "\n",
    "Numbers without decimal places"
   ]
  },
  {
   "cell_type": "code",
   "execution_count": 9,
   "metadata": {},
   "outputs": [
    {
     "name": "stdout",
     "output_type": "stream",
     "text": [
      "46934\n"
     ]
    }
   ],
   "source": [
    "my_number = 23467\n",
    "new_number = my_number * 2\n",
    "\n",
    "print(new_number)"
   ]
  },
  {
   "cell_type": "markdown",
   "metadata": {},
   "source": [
    "### 3. Float\n",
    "\n",
    "Numbers with decimal places"
   ]
  },
  {
   "cell_type": "code",
   "execution_count": 6,
   "metadata": {},
   "outputs": [
    {
     "name": "stdout",
     "output_type": "stream",
     "text": [
      "3.142\n"
     ]
    }
   ],
   "source": [
    "my_float = 3.142\n",
    "\n",
    "print(my_float)"
   ]
  },
  {
   "cell_type": "markdown",
   "metadata": {},
   "source": [
    "### Try it yourself!\n",
    "\n",
    "Create the following variables:\n",
    "\n",
    "1. Name\n",
    "2. Year\n",
    "3. Favourite colour\n",
    "\n",
    "Now print your variables!"
   ]
  },
  {
   "cell_type": "code",
   "execution_count": null,
   "metadata": {},
   "outputs": [],
   "source": [
    "# Try it here!"
   ]
  },
  {
   "cell_type": "markdown",
   "metadata": {},
   "source": [
    "## Lists\n",
    "\n",
    "Lists are a collection of data which can be of different data types. Lists are mutable, meaing you can add, delete or change the elements in the list"
   ]
  },
  {
   "cell_type": "code",
   "execution_count": 10,
   "metadata": {},
   "outputs": [
    {
     "name": "stdout",
     "output_type": "stream",
     "text": [
      "['Clare', 234, 3.142]\n"
     ]
    }
   ],
   "source": [
    "# Create your lists here!\n",
    "\n",
    "my_list = ['Clare', 234, 3.142]\n",
    "\n",
    "print(my_list)"
   ]
  },
  {
   "cell_type": "markdown",
   "metadata": {},
   "source": [
    "## Slicing lists\n",
    "\n",
    "Values can be sliced from lists by specifying its position\n",
    "\n",
    "When extracting a range of items, use [Start:End:Step]"
   ]
  },
  {
   "cell_type": "code",
   "execution_count": 13,
   "metadata": {},
   "outputs": [
    {
     "name": "stdout",
     "output_type": "stream",
     "text": [
      "January\n",
      "June\n"
     ]
    }
   ],
   "source": [
    "months = ['January', 'February', 'March', 'April', 'May', 'June']\n",
    "\n",
    "# Try extracting January\n",
    "print(months[0])\n",
    "# Try extracting June\n",
    "print(months[5])"
   ]
  },
  {
   "cell_type": "code",
   "execution_count": 15,
   "metadata": {},
   "outputs": [
    {
     "name": "stdout",
     "output_type": "stream",
     "text": [
      "['February', 'March', 'April']\n"
     ]
    }
   ],
   "source": [
    "# Try extracting February to April\n",
    "print(months[1:4])"
   ]
  },
  {
   "cell_type": "code",
   "execution_count": 19,
   "metadata": {},
   "outputs": [
    {
     "name": "stdout",
     "output_type": "stream",
     "text": [
      "['March', 'April', 'May', 'June']\n"
     ]
    }
   ],
   "source": [
    "# Try extracting January to March\n",
    "print(months[2:])"
   ]
  },
  {
   "cell_type": "code",
   "execution_count": 17,
   "metadata": {},
   "outputs": [
    {
     "name": "stdout",
     "output_type": "stream",
     "text": [
      "['January', 'March', 'May']\n"
     ]
    }
   ],
   "source": [
    "# Try extracting every other item in the list\n",
    "print(months[::2])"
   ]
  },
  {
   "cell_type": "code",
   "execution_count": 18,
   "metadata": {},
   "outputs": [
    {
     "name": "stdout",
     "output_type": "stream",
     "text": [
      "['June', 'May', 'April', 'March', 'February', 'January']\n"
     ]
    }
   ],
   "source": [
    "# Try reversing the items in the list\n",
    "print(months[::-1])"
   ]
  },
  {
   "cell_type": "markdown",
   "metadata": {},
   "source": [
    "## Dictionary\n",
    "\n",
    "Dictionary is similar to a list, but the order of items doesn’t matter, and they aren’t selected by an offset such as 0 or 1. Instead, you specify a unique key to associate with each value. \n",
    "\n",
    "dictionary = { key : item }"
   ]
  },
  {
   "cell_type": "code",
   "execution_count": 22,
   "metadata": {},
   "outputs": [
    {
     "data": {
      "text/plain": [
       "3600"
      ]
     },
     "execution_count": 22,
     "metadata": {},
     "output_type": "execute_result"
    }
   ],
   "source": [
    "# Make your own dictionary here\n",
    "dictionary_of_time = {\n",
    "    'second': 1,\n",
    "    'minute': 60,\n",
    "    'hour': 3600,\n",
    "    'day': 'a big number'\n",
    "}\n",
    "dictionary_of_time['hour']"
   ]
  },
  {
   "cell_type": "code",
   "execution_count": 24,
   "metadata": {},
   "outputs": [],
   "source": [
    "# Try accessing a value here\n",
    "\n"
   ]
  },
  {
   "cell_type": "code",
   "execution_count": null,
   "metadata": {},
   "outputs": [],
   "source": [
    "1\n",
    "2\n",
    "3\n",
    "4\n",
    "5\n",
    "6\n",
    "7\n",
    "8\n",
    "9\n",
    "10"
   ]
  },
  {
   "cell_type": "markdown",
   "metadata": {},
   "source": [
    "## For loops\n",
    "\n",
    "Python makes frequent use of iterators, for good reason. They make it possible for you to traverse data structures without knowing how large they are or how they are implemented. \n",
    "\n",
    "It is possible to loop through:\n",
    "1. Strings\n",
    "2. Integers \n",
    "3. Lists\n",
    "4. Etc"
   ]
  },
  {
   "cell_type": "code",
   "execution_count": 25,
   "metadata": {},
   "outputs": [
    {
     "name": "stdout",
     "output_type": "stream",
     "text": [
      "B\n",
      "i\n",
      "o\n",
      "h\n",
      "a\n",
      "c\n",
      "k\n",
      " \n",
      "i\n",
      "s\n",
      " \n",
      "t\n",
      "h\n",
      "e\n",
      " \n",
      "b\n",
      "e\n",
      "s\n",
      "t\n"
     ]
    }
   ],
   "source": [
    "# Try looping through a string\n",
    "\n",
    "sentence = 'Biohack is the best'\n",
    "\n",
    "for character in sentence:\n",
    "    print(character)"
   ]
  },
  {
   "cell_type": "code",
   "execution_count": 27,
   "metadata": {},
   "outputs": [
    {
     "name": "stdout",
     "output_type": "stream",
     "text": [
      "0\n",
      "100\n",
      "200\n",
      "300\n",
      "400\n"
     ]
    }
   ],
   "source": [
    "# Try looping through numbers\n",
    "\n",
    "for number in range(5):\n",
    "    print(number * 100)"
   ]
  },
  {
   "cell_type": "code",
   "execution_count": 28,
   "metadata": {},
   "outputs": [
    {
     "name": "stdout",
     "output_type": "stream",
     "text": [
      "January\n",
      "February\n",
      "March\n",
      "April\n",
      "May\n",
      "June\n"
     ]
    }
   ],
   "source": [
    "# Try looping through lists\n",
    "\n",
    "months = ['January', 'February', 'March', 'April', 'May', 'June']\n",
    "\n",
    "for month in months:\n",
    "    print(month)"
   ]
  }
 ],
 "metadata": {
  "kernelspec": {
   "display_name": "Python 3",
   "language": "python",
   "name": "python3"
  },
  "language_info": {
   "codemirror_mode": {
    "name": "ipython",
    "version": 3
   },
   "file_extension": ".py",
   "mimetype": "text/x-python",
   "name": "python",
   "nbconvert_exporter": "python",
   "pygments_lexer": "ipython3",
   "version": "3.8.5"
  }
 },
 "nbformat": 4,
 "nbformat_minor": 4
}
