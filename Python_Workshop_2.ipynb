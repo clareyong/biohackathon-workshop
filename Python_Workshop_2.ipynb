{
 "cells": [
  {
   "cell_type": "markdown",
   "metadata": {},
   "source": [
    "## 4 Horsemen of Coding!"
   ]
  },
  {
   "cell_type": "markdown",
   "metadata": {},
   "source": [
    "### Recap!"
   ]
  },
  {
   "cell_type": "code",
   "execution_count": null,
   "metadata": {},
   "outputs": [],
   "source": [
    "# List \n",
    "\n",
    "list_of_sequence = ['AGCTGATCGATCGA', 'TTGTGTGTGCACAAC', 'GTCGATTATGCTA']\n",
    "\n",
    "# Dictionary \n",
    "# Key - Value Pairs\n",
    "\n",
    "bases = {\n",
    "    'A':'T',\n",
    "    'T':'A',\n",
    "    'C':'G',\n",
    "    'G':'C'\n",
    "}\n",
    "\n",
    "# For Loops \n",
    "\n",
    "for sequence in list_of_sequence:\n",
    "    print (sequence)\n",
    "    complimentary = ''\n",
    "    for nt in sequence:\n",
    "        complimentary += bases[nt]\n",
    "\n",
    "        \n",
    "\n"
   ]
  },
  {
   "cell_type": "markdown",
   "metadata": {},
   "source": [
    "### RNA to Protein Translation!"
   ]
  },
  {
   "cell_type": "code",
   "execution_count": 6,
   "metadata": {},
   "outputs": [],
   "source": [
    "gencode = {\"UUU\":\"F\", \"UUC\":\"F\", \"UUA\":\"L\", \"UUG\":\"L\",\n",
    "           \"UCU\":\"S\", \"UCC\":\"S\", \"UCA\":\"S\", \"UCG\":\"S\",\n",
    "           \"UAU\":\"Y\", \"UAC\":\"Y\", \"UAA\":\"\", \"UAG\":\"\",\n",
    "           \"UGU\":\"C\", \"UGC\":\"C\", \"UGA\":\"\", \"UGG\":\"W\",\n",
    "           \"CUU\":\"L\", \"CUC\":\"L\", \"CUA\":\"L\", \"CUG\":\"L\",\n",
    "           \"CCU\":\"P\", \"CCC\":\"P\", \"CCA\":\"P\", \"CCG\":\"P\",\n",
    "           \"CAU\":\"H\", \"CAC\":\"H\", \"CAA\":\"Q\", \"CAG\":\"Q\",\n",
    "           \"CGU\":\"R\", \"CGC\":\"R\", \"CGA\":\"R\", \"CGG\":\"R\",\n",
    "           \"AUU\":\"I\", \"AUC\":\"I\", \"AUA\":\"I\", \"AUG\":\"M\",\n",
    "           \"ACU\":\"T\", \"ACC\":\"T\", \"ACA\":\"T\", \"ACG\":\"T\",\n",
    "           \"AAU\":\"N\", \"AAC\":\"N\", \"AAA\":\"K\", \"AAG\":\"K\",\n",
    "           \"AGU\":\"S\", \"AGC\":\"S\", \"AGA\":\"R\", \"AGG\":\"R\",\n",
    "           \"GUU\":\"V\", \"GUC\":\"V\", \"GUA\":\"V\", \"GUG\":\"V\",\n",
    "           \"GCU\":\"A\", \"GCC\":\"A\", \"GCA\":\"A\", \"GCG\":\"A\",\n",
    "           \"GAU\":\"D\", \"GAC\":\"D\", \"GAA\":\"E\", \"GAG\":\"E\",\n",
    "           \"GGU\":\"G\", \"GGC\":\"G\", \"GGA\":\"G\", \"GGG\":\"G\"\n",
    "          }"
   ]
  },
  {
   "cell_type": "code",
   "execution_count": 9,
   "metadata": {},
   "outputs": [
    {
     "name": "stdout",
     "output_type": "stream",
     "text": [
      "TRVCVCARVSV\n"
     ]
    }
   ],
   "source": [
    "RNA_sequence = 'ACGUGUGCGUAGUAC'\n",
    "\n",
    "protein_sequence = ''\n",
    "for i in range(0, len(RNA_sequence)-3):\n",
    "    tmp = RNA_sequence[i:i+3]\n",
    "    amino_acid = gencode[tmp]\n",
    "    protein_sequence += amino_acid\n",
    "    \n",
    "print (protein_sequence)"
   ]
  },
  {
   "cell_type": "markdown",
   "metadata": {},
   "source": [
    "### Booleans"
   ]
  },
  {
   "cell_type": "code",
   "execution_count": null,
   "metadata": {},
   "outputs": [],
   "source": [
    "SBSBiohackathonIsAwesome = True"
   ]
  },
  {
   "cell_type": "code",
   "execution_count": null,
   "metadata": {},
   "outputs": [],
   "source": [
    "year1 = False"
   ]
  },
  {
   "cell_type": "markdown",
   "metadata": {},
   "source": [
    "### Comparison Operators"
   ]
  },
  {
   "cell_type": "markdown",
   "metadata": {},
   "source": [
    "Six comparison operators:\n",
    "\n",
    "1. more than (\\>)\n",
    "2. less than (<)\n",
    "3. equal or more than (\\>=)\n",
    "4. equal or less than (<=)\n",
    "5. equal (==)\n",
    "6. Not equal (!=)"
   ]
  },
  {
   "cell_type": "code",
   "execution_count": null,
   "metadata": {},
   "outputs": [],
   "source": [
    "2 < 3"
   ]
  },
  {
   "cell_type": "code",
   "execution_count": null,
   "metadata": {},
   "outputs": [],
   "source": [
    "1 >= 1"
   ]
  },
  {
   "cell_type": "code",
   "execution_count": null,
   "metadata": {},
   "outputs": [],
   "source": [
    "1 <= 4"
   ]
  },
  {
   "cell_type": "code",
   "execution_count": null,
   "metadata": {},
   "outputs": [],
   "source": [
    "## Test on Strings!\n",
    "\n",
    "'Hello' == 'hello'"
   ]
  },
  {
   "cell_type": "code",
   "execution_count": null,
   "metadata": {},
   "outputs": [],
   "source": [
    "## What about this?\n",
    "\n",
    "1 != True"
   ]
  },
  {
   "cell_type": "code",
   "execution_count": null,
   "metadata": {},
   "outputs": [],
   "source": [
    "0 == False"
   ]
  },
  {
   "cell_type": "markdown",
   "metadata": {},
   "source": [
    "### Logic Operators"
   ]
  },
  {
   "cell_type": "code",
   "execution_count": null,
   "metadata": {},
   "outputs": [],
   "source": [
    "not (2 < 3)"
   ]
  },
  {
   "cell_type": "code",
   "execution_count": null,
   "metadata": {},
   "outputs": [],
   "source": [
    "(1 > 2) and (2 < 3)"
   ]
  },
  {
   "cell_type": "code",
   "execution_count": null,
   "metadata": {},
   "outputs": [],
   "source": [
    "(1 > 2) or (2 < 3)"
   ]
  },
  {
   "cell_type": "code",
   "execution_count": null,
   "metadata": {},
   "outputs": [],
   "source": [
    "(1 > 2) and not (2 < 3)"
   ]
  },
  {
   "cell_type": "code",
   "execution_count": null,
   "metadata": {},
   "outputs": [],
   "source": [
    "list_of_numbers = list(range(0,5))\n",
    "print (list_of_numbers)"
   ]
  },
  {
   "cell_type": "code",
   "execution_count": null,
   "metadata": {},
   "outputs": [],
   "source": [
    "list_of_numbers = [0, 1, 2, 3, 4]\n",
    "print (list_of_numbers)"
   ]
  },
  {
   "cell_type": "code",
   "execution_count": null,
   "metadata": {},
   "outputs": [],
   "source": [
    "3 in list_of_numbers"
   ]
  },
  {
   "cell_type": "code",
   "execution_count": null,
   "metadata": {},
   "outputs": [],
   "source": [
    "6 in list_of_numbers"
   ]
  },
  {
   "cell_type": "code",
   "execution_count": null,
   "metadata": {},
   "outputs": [],
   "source": [
    "not 4 in list_of_numbers"
   ]
  },
  {
   "cell_type": "code",
   "execution_count": null,
   "metadata": {},
   "outputs": [],
   "source": [
    "DNA = 'AGCGTGCCGT'"
   ]
  },
  {
   "cell_type": "code",
   "execution_count": null,
   "metadata": {},
   "outputs": [],
   "source": [
    "'GCG' in DNA"
   ]
  },
  {
   "cell_type": "markdown",
   "metadata": {},
   "source": [
    "### If, Elif, else Statements"
   ]
  },
  {
   "cell_type": "code",
   "execution_count": null,
   "metadata": {},
   "outputs": [],
   "source": [
    "a = 8\n",
    "b = 13\n",
    "c = 0\n",
    "d = True\n",
    "DNA = 'AGCGTGCCGT'\n",
    "RNA = ''"
   ]
  },
  {
   "cell_type": "code",
   "execution_count": null,
   "metadata": {},
   "outputs": [],
   "source": [
    "if a >= 10:\n",
    "    print (\"a is more than or equal to 10\")\n",
    "else:\n",
    "    print (\"a is less than 10\")"
   ]
  },
  {
   "cell_type": "code",
   "execution_count": null,
   "metadata": {},
   "outputs": [],
   "source": [
    "if a >= 10:\n",
    "    print (\"a is more than or equal to 10\")\n",
    "else if a >= 5 and a < 10:\n",
    "    print (\"a is between 5 to 9\")\n",
    "else:\n",
    "    print (\"a is less than 5\")"
   ]
  },
  {
   "cell_type": "code",
   "execution_count": null,
   "metadata": {},
   "outputs": [],
   "source": [
    "if a % 2 == 0 and b % 2 == 0:\n",
    "    print (\"a or b is divisble by 2\")"
   ]
  },
  {
   "cell_type": "code",
   "execution_count": null,
   "metadata": {},
   "outputs": [],
   "source": [
    "if a % 2 == 0 or b % 2 == 0:\n",
    "    print (\"a or b is divisble by 2\")"
   ]
  },
  {
   "cell_type": "code",
   "execution_count": null,
   "metadata": {},
   "outputs": [],
   "source": [
    "year1 = False\n",
    "if not year1:\n",
    "    print (\"He has completed BS1009 Introduction to Programming\")"
   ]
  },
  {
   "cell_type": "code",
   "execution_count": null,
   "metadata": {},
   "outputs": [],
   "source": [
    "b = 13\n",
    "c = 0\n",
    "d = True\n",
    "\n",
    "if b:\n",
    "    print (\"B is True\")\n",
    "else:\n",
    "    print (\"B is False\")\n",
    "    \n",
    "if c:\n",
    "    print (\"C is True\")\n",
    "else:\n",
    "    print (\"C is False\")\n",
    "    \n",
    "if d:\n",
    "    print (\"D is True\")\n",
    "else:\n",
    "    print (\"D is False\")"
   ]
  },
  {
   "cell_type": "code",
   "execution_count": null,
   "metadata": {},
   "outputs": [],
   "source": [
    "DNA = 'AGCGTGCCGT'\n",
    "\n",
    "if DNA:\n",
    "    print (f\"The DNA sequence is {DNA}\")\n",
    "else:\n",
    "    print ('No DNA Sequence')"
   ]
  },
  {
   "cell_type": "code",
   "execution_count": null,
   "metadata": {},
   "outputs": [],
   "source": [
    "RNA = ''\n",
    "\n",
    "if RNA:\n",
    "    print (f\"The DNA sequence is {DNA}\")\n",
    "else:\n",
    "    print ('No DNA Sequence')"
   ]
  },
  {
   "cell_type": "code",
   "execution_count": null,
   "metadata": {},
   "outputs": [],
   "source": [
    "if 'GCG' in DNA:\n",
    "    print (f'GCG is found in {DNA}')"
   ]
  },
  {
   "cell_type": "markdown",
   "metadata": {},
   "source": [
    "### For Loops + If, Else Statements (Horsemen 2)"
   ]
  },
  {
   "cell_type": "markdown",
   "metadata": {},
   "source": [
    "FuzzyWuzzy Mini Challenge!\n",
    "\n",
    "For a range of numbers between 1 to 50\n",
    "Prints 'FuzzyWuzzy' if the number is a multiple of 3 & 5\n",
    "Prints 'Fuzzy' if the number is a multiple of 3\n",
    "Prints 'Wuzzy' if the number is a mulitple of 5\n",
    "else continue"
   ]
  },
  {
   "cell_type": "code",
   "execution_count": 12,
   "metadata": {},
   "outputs": [
    {
     "name": "stdout",
     "output_type": "stream",
     "text": [
      "1\n",
      "2\n",
      "3 Fuzzy\n",
      "3\n",
      "4\n",
      "5\n",
      "6 Fuzzy\n",
      "6\n",
      "7\n",
      "8\n",
      "9 Fuzzy\n",
      "9\n",
      "10\n",
      "11\n",
      "12 Fuzzy\n",
      "12\n",
      "13\n",
      "14\n",
      "15 FuzzyWuzzy\n",
      "15 Fuzzy\n",
      "15 Wuzzy\n",
      "16\n",
      "17\n",
      "18 Fuzzy\n",
      "18\n",
      "19\n",
      "20\n",
      "21 Fuzzy\n",
      "21\n",
      "22\n",
      "23\n",
      "24 Fuzzy\n",
      "24\n",
      "25\n",
      "26\n",
      "27 Fuzzy\n",
      "27\n",
      "28\n",
      "29\n",
      "30 FuzzyWuzzy\n",
      "30 Fuzzy\n",
      "30 Wuzzy\n",
      "31\n",
      "32\n",
      "33 Fuzzy\n",
      "33\n",
      "34\n",
      "35\n",
      "36 Fuzzy\n",
      "36\n",
      "37\n",
      "38\n",
      "39 Fuzzy\n",
      "39\n",
      "40\n",
      "41\n",
      "42 Fuzzy\n",
      "42\n",
      "43\n",
      "44\n",
      "45 FuzzyWuzzy\n",
      "45 Fuzzy\n",
      "45 Wuzzy\n",
      "46\n",
      "47\n",
      "48 Fuzzy\n",
      "48\n",
      "49\n",
      "50\n"
     ]
    }
   ],
   "source": [
    "## FuzzyWuzzy\n",
    "\n",
    "## Hint! Use modulo (%) to see if the value returns a remainder\n",
    "\n",
    "limit = 50\n",
    "for i in range(1, limit+1):\n",
    "    ## if i a multiple of both 3 and 5; Print 'FuzzyWuzzy' \n",
    "    if i % 5 == 0 and i % 3 == 0:\n",
    "        print(i, 'FuzzyWuzzy')\n",
    "    ## else if i is a multiple of 3; Print 'Fuzzy' \n",
    "    if i % 3 == 0:\n",
    "        print(i, 'Fuzzy')\n",
    "    ## else if i is a multiple of 5; Print 'Wuzzy' \n",
    "    if i % 5 == 0 and i % 3 == 0:\n",
    "        print(i, 'Wuzzy')\n",
    "    ## else; ignore\n",
    "    else:\n",
    "        print(i)"
   ]
  },
  {
   "cell_type": "markdown",
   "metadata": {},
   "source": [
    "Convert DNA to RNA! "
   ]
  },
  {
   "cell_type": "code",
   "execution_count": 14,
   "metadata": {},
   "outputs": [
    {
     "name": "stdout",
     "output_type": "stream",
     "text": [
      "GCGAGCGCUAGCUAGCAGCUAGCCAUCGUAGCUAGCUGUGCUAGCAUGGUCGAU\n"
     ]
    }
   ],
   "source": [
    "## Convert DNA to RNA (ie. substitute T to U)\n",
    "\n",
    "DNA = 'GCGAGCGCTAGCTAGCAGCTAGCCATCGTAGCTAGCTGTGCTAGCATGGTCGAT'\n",
    "\n",
    "RNA = ''\n",
    "for nt in DNA: \n",
    "    ## Insert Code Here\n",
    "    ## HINT!! If nt == 'T': do something\n",
    "    if nt == 'T':\n",
    "        RNA += 'U'\n",
    "    else:\n",
    "        RNA += nt\n",
    "print(RNA)"
   ]
  },
  {
   "cell_type": "markdown",
   "metadata": {},
   "source": [
    "### Challenge 2: GC Content "
   ]
  },
  {
   "cell_type": "markdown",
   "metadata": {},
   "source": [
    "Your task is to calculate the GC percentage in a DNA String\n",
    "\n",
    "Steps:\n",
    "\n",
    "1. Store GC count in a variable: GC_count\n",
    "2. Iterate over the characters in the DNA using For Loop\n",
    "3. If character is a G or C: GC_count += 1\n",
    "4. Remember to divide GC_count by len(DNA) * 100"
   ]
  },
  {
   "cell_type": "code",
   "execution_count": 15,
   "metadata": {},
   "outputs": [],
   "source": [
    "DNA = 'GCGAGCGCTAGCTAGCAGCTAGCCATCGTAGCTAGCTGTGCTAGCATGGTCGAT'"
   ]
  },
  {
   "cell_type": "code",
   "execution_count": 16,
   "metadata": {},
   "outputs": [
    {
     "name": "stdout",
     "output_type": "stream",
     "text": [
      "31\n"
     ]
    }
   ],
   "source": [
    "## Hint! Think For Loop + If-else Statement\n",
    "\n",
    "GC_count = 0\n",
    "## Insert Code Here\n",
    "for base in DNA:\n",
    "    if base == 'G' or base == 'C':\n",
    "        GC_count += 1\n",
    "print(GC_count)"
   ]
  },
  {
   "cell_type": "markdown",
   "metadata": {},
   "source": [
    "## Functions (Horsemen 3)"
   ]
  },
  {
   "cell_type": "code",
   "execution_count": null,
   "metadata": {},
   "outputs": [],
   "source": [
    "## Example 1\n",
    "\n",
    "def square(x):\n",
    "    return x*x"
   ]
  },
  {
   "cell_type": "code",
   "execution_count": null,
   "metadata": {},
   "outputs": [],
   "source": [
    "for i in range(10):\n",
    "    squared_value = square(i)\n",
    "    print (f'{i} to the Power of Two gives: {squared_value}')"
   ]
  },
  {
   "cell_type": "code",
   "execution_count": null,
   "metadata": {},
   "outputs": [],
   "source": [
    "## Example 2 (From Previous Week)\n",
    "\n",
    "def reverse_complementary(DNA):\n",
    "    reverse = ''\n",
    "    translation = {'A':'T', 'T':'A', 'G':'C', 'C':'G'}\n",
    "    for nt in DNA:\n",
    "        reverse += translation[nt]\n",
    "        \n",
    "    return reverse[::-1]"
   ]
  },
  {
   "cell_type": "code",
   "execution_count": null,
   "metadata": {},
   "outputs": [],
   "source": [
    "list_of_DNA = ['GGCATGCTAGTCGGCA', 'GCATGCATGCTGACT', 'ATGTGTCGATGTAGC', 'TAGCTAGTCGTACGT']\n",
    "\n",
    "for dna in list_of_DNA:\n",
    "    reverse_compliment = reverse_complementary(dna)\n",
    "    print (f'Reverse Complementary of {dna}:{reverse_compliment}')"
   ]
  },
  {
   "cell_type": "code",
   "execution_count": null,
   "metadata": {},
   "outputs": [],
   "source": [
    "## Create a Function Here to Calculate GC%\n",
    "\n",
    "def calculate_GC(DNA: str):\n",
    "    ## Insert Code Here\n",
    "    \n",
    "    return percentage"
   ]
  },
  {
   "cell_type": "code",
   "execution_count": null,
   "metadata": {},
   "outputs": [],
   "source": [
    "list_of_DNA = ['GGCATGCTAGTCGGCA', 'GCATGCATGCTGACT', 'ATGTGTCGATGTAGC', 'TAGCTAGTCGTACGT']\n",
    "\n",
    "for dna in list_of_DNA:\n",
    "    percentage = calculate_GC(dna)\n",
    "    print (f'{percentage}% for {dna}')"
   ]
  },
  {
   "cell_type": "code",
   "execution_count": null,
   "metadata": {},
   "outputs": [],
   "source": [
    "## Create a Function Here to Convert DNA to RNA \n",
    "\n",
    "def DNA_To_RNA(DNA):\n",
    "    RNA = ''\n",
    "    ## Insert Code Here\n",
    "    \n",
    "    return RNA"
   ]
  },
  {
   "cell_type": "code",
   "execution_count": null,
   "metadata": {},
   "outputs": [],
   "source": [
    "list_of_DNA = ['GGCATGCTAGTCGGCA', 'GCATGCATGCTGACT', 'ATGTGTCGATGTAGC', 'TAGCTAGTCGTACGT']\n",
    "\n",
    "for dna in list_of_DNA:\n",
    "    RNA = DNA_To_RNA(dna)\n",
    "    print (f'{RNA}')\n",
    "    print (f'{dna}')\n",
    "    print ('*' * 25)"
   ]
  },
  {
   "cell_type": "markdown",
   "metadata": {},
   "source": [
    "### Challenge 3: Hamming Distance"
   ]
  },
  {
   "cell_type": "markdown",
   "metadata": {},
   "source": [
    "In information theory, the Hamming distance between two strings of equal length is the number of positions at which the corresponding symbols are different.\n",
    "\n",
    "Your task is to find the hamming distance between the Two DNA strings"
   ]
  },
  {
   "cell_type": "code",
   "execution_count": 17,
   "metadata": {},
   "outputs": [],
   "source": [
    "DNA1 = 'AGCTAGCTAGAGTCGAC'\n",
    "DNA2 = 'AGCTACCGAGAGTTGAC'"
   ]
  },
  {
   "cell_type": "code",
   "execution_count": 19,
   "metadata": {},
   "outputs": [],
   "source": [
    "## Create a Function Here to Calculate hamming distance from DNA1 to DNA2\n",
    "\n",
    "def calculate_hamming_distance(DNA1: str, DNA2: str):\n",
    "    hamming_distance = 0\n",
    "    assert len(DNA1) == len(DNA2), f'Length of {DNA1} and {DNA2} are not equal'\n",
    "    for i in range(len(DNA1)):\n",
    "        if DNA1[i] != DNA2[i]:\n",
    "            hamming_distance += 1\n",
    "    ## Insert Code Here\n",
    "    \n",
    "    return hamming_distance"
   ]
  },
  {
   "cell_type": "code",
   "execution_count": 20,
   "metadata": {},
   "outputs": [
    {
     "name": "stdout",
     "output_type": "stream",
     "text": [
      "3\n"
     ]
    }
   ],
   "source": [
    "hamming_distance = calculate_hamming_distance(DNA1, DNA2)\n",
    "print (hamming_distance)"
   ]
  },
  {
   "cell_type": "markdown",
   "metadata": {},
   "source": [
    "### Challenge 4: String Search"
   ]
  },
  {
   "cell_type": "markdown",
   "metadata": {},
   "source": [
    "Write a Function to query a motif pattern (len=5) in a DNA sequence. "
   ]
  },
  {
   "cell_type": "code",
   "execution_count": 22,
   "metadata": {},
   "outputs": [],
   "source": [
    "text    = 'GCGAGCGCTAGCTAGCAGCTAGCCATCGTAGCTAGCTGTGCTAGCATGGTCGAT'\n",
    "pattern = 'CTAGC'"
   ]
  },
  {
   "cell_type": "code",
   "execution_count": 43,
   "metadata": {},
   "outputs": [],
   "source": [
    "## Hint: For Loops, string splicing\n",
    "## Hint: range(len(string) - len(motif))\n",
    "\n",
    "def string_query(text: str, pattern: str):\n",
    "    index = -1\n",
    "    for i in range(len(text)- len(pattern)):\n",
    "        slice_DNA = text[i:i+5]\n",
    "        if slice_DNA == pattern:\n",
    "            index = i       \n",
    "        else: continue \n",
    "            \n",
    "        \n",
    "    ## Insert Code Here\n",
    "    return index"
   ]
  },
  {
   "cell_type": "code",
   "execution_count": 45,
   "metadata": {},
   "outputs": [],
   "source": [
    "## Hint: For Loops, string splicing\n",
    "## Hint: range(len(string) - len(motif))\n",
    "\n",
    "def string_query(text: str, pattern: str):\n",
    "    index = list()\n",
    "    for i in range(len(text)-1):\n",
    "        sliced_dna = text[i:i+5]\n",
    "        if sliced_dna == pattern:\n",
    "            index.append(i)\n",
    "    \n",
    "    ## Insert Code Here\n",
    "    return index"
   ]
  },
  {
   "cell_type": "code",
   "execution_count": 46,
   "metadata": {},
   "outputs": [
    {
     "name": "stdout",
     "output_type": "stream",
     "text": [
      "[7, 11, 18, 31, 40]\n"
     ]
    }
   ],
   "source": [
    "position = string_query(text, pattern)\n",
    "print (position)"
   ]
  },
  {
   "cell_type": "code",
   "execution_count": null,
   "metadata": {},
   "outputs": [],
   "source": []
  }
 ],
 "metadata": {
  "kernelspec": {
   "display_name": "Python 3",
   "language": "python",
   "name": "python3"
  },
  "language_info": {
   "codemirror_mode": {
    "name": "ipython",
    "version": 3
   },
   "file_extension": ".py",
   "mimetype": "text/x-python",
   "name": "python",
   "nbconvert_exporter": "python",
   "pygments_lexer": "ipython3",
   "version": "3.8.5"
  }
 },
 "nbformat": 4,
 "nbformat_minor": 5
}
