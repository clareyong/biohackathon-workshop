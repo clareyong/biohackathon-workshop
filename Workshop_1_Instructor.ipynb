{
 "cells": [
  {
   "cell_type": "markdown",
   "metadata": {},
   "source": [
    "## Printing"
   ]
  },
  {
   "cell_type": "code",
   "execution_count": null,
   "metadata": {},
   "outputs": [],
   "source": [
    "print('hello world')"
   ]
  },
  {
   "cell_type": "markdown",
   "metadata": {},
   "source": [
    "## Variables"
   ]
  },
  {
   "cell_type": "markdown",
   "metadata": {},
   "source": [
    "Variables are used to store information or values such as a number or words. To create a variable in Python, write the name of the variables and assign it to a value.\n",
    "\n",
    "variable_name = value"
   ]
  },
  {
   "cell_type": "code",
   "execution_count": null,
   "metadata": {},
   "outputs": [],
   "source": [
    "# Note that the equal sign here is for assigning a variable, not to indicate equality\n",
    "\n",
    "a = 'hello world'\n",
    "b = 5\n",
    "\n",
    "print(a, b)"
   ]
  },
  {
   "cell_type": "code",
   "execution_count": null,
   "metadata": {},
   "outputs": [],
   "source": [
    "# How is this useful?\n",
    "# Let's calculate the total perimeter of a triangle\n",
    "\n",
    "side_a = 5\n",
    "side_b = 3\n",
    "side_c = 4\n",
    "\n",
    "total = side_a + side_b + side_c\n",
    "\n",
    "print(total)\n",
    "\n",
    "# If you want to change this to calculate the total perimenter of a square, pentagon, etc, you can just add more variables"
   ]
  },
  {
   "cell_type": "markdown",
   "metadata": {},
   "source": [
    "## Naming variables\n",
    "\n",
    "\n",
    "1. Must begin with a letter (a - z, A - B) or underscore (_)\n",
    "2. Other characters can be letters, numbers or _\n",
    "3. Do not use Python keywords\n",
    "4. Case Sensitive\n",
    "5. Meaningful names"
   ]
  },
  {
   "cell_type": "code",
   "execution_count": null,
   "metadata": {},
   "outputs": [],
   "source": [
    "# begins with a letter or underscore, other characters can be letters, numbers or _ \n",
    "\n",
    "greeting_1 = 'hello world'\n",
    "_intro = 'this is python'\n",
    "\n",
    "#case sensitive\n",
    "print(Greeting_1)"
   ]
  },
  {
   "cell_type": "code",
   "execution_count": null,
   "metadata": {},
   "outputs": [],
   "source": [
    "# Cannot begin with numbers\n",
    "123abc = 'hello'\n"
   ]
  },
  {
   "cell_type": "code",
   "execution_count": null,
   "metadata": {},
   "outputs": [],
   "source": [
    "# Cannot have other characters\n",
    "greeting_! = 'hello world'"
   ]
  },
  {
   "cell_type": "code",
   "execution_count": null,
   "metadata": {},
   "outputs": [],
   "source": [
    "# Meaningful names\n",
    "d = 'AGCTCCCTTAG'\n",
    "my_dna = 'AGCTCCCTTAG'"
   ]
  },
  {
   "cell_type": "markdown",
   "metadata": {},
   "source": [
    "## Data types\n",
    "\n",
    "### 1. String\n",
    "\n",
    "Character data \n",
    "\n",
    "Use '<string_here>' or \"<string_here>\" to declare strings"
   ]
  },
  {
   "cell_type": "code",
   "execution_count": null,
   "metadata": {},
   "outputs": [],
   "source": [
    "name = python\n",
    "name = 'python'"
   ]
  },
  {
   "cell_type": "markdown",
   "metadata": {},
   "source": [
    "### 2. Integers\n",
    "\n",
    "Numbers without decimal places"
   ]
  },
  {
   "cell_type": "code",
   "execution_count": null,
   "metadata": {},
   "outputs": [],
   "source": [
    "number = 10\n",
    "\n",
    "print(number)"
   ]
  },
  {
   "cell_type": "markdown",
   "metadata": {},
   "source": [
    "### 3. Float\n",
    "\n",
    "Numbers with decimal places"
   ]
  },
  {
   "cell_type": "code",
   "execution_count": null,
   "metadata": {},
   "outputs": [],
   "source": [
    "number = 12.34\n",
    "\n",
    "print(number)"
   ]
  },
  {
   "cell_type": "markdown",
   "metadata": {},
   "source": [
    "### Try it yourself!\n",
    "\n",
    "Create the following variables:\n",
    "\n",
    "1. Name\n",
    "2. Year\n",
    "3. Favourite colour\n",
    "\n",
    "Now print your variables!"
   ]
  },
  {
   "cell_type": "code",
   "execution_count": null,
   "metadata": {},
   "outputs": [],
   "source": [
    "# Try it here!\n",
    "\n",
    "my_name = 'Clare'\n",
    "my_year = 4\n",
    "fav_colour = 'blue'\n",
    "\n",
    "print('My name is', my_name)\n",
    "print('I am in year', my_year)\n",
    "print('My favourite colour is', fav_colour)\n",
    "\n",
    "# should we cover operators? (+ - / * etc)"
   ]
  },
  {
   "cell_type": "markdown",
   "metadata": {},
   "source": [
    "## Lists\n",
    "\n",
    "Lists are a collection of data which can be of different data types. Lists are mutable, meaning you can add, delete or change the elements in the list"
   ]
  },
  {
   "cell_type": "code",
   "execution_count": null,
   "metadata": {},
   "outputs": [],
   "source": [
    "# Create lists\n",
    "\n",
    "empty_list = []\n",
    "also_empty_list = list()\n",
    "my_favourite_things = ['Ice-cream', 3.142, 2022, 'BioHack']"
   ]
  },
  {
   "cell_type": "markdown",
   "metadata": {},
   "source": [
    "## Slicing lists\n",
    "\n",
    "Values can be sliced from lists by specifying its position\n",
    "\n",
    "When extracting a range of items, use [Start:End:Step]"
   ]
  },
  {
   "cell_type": "code",
   "execution_count": null,
   "metadata": {},
   "outputs": [],
   "source": [
    "organelles = ['ribosome', 'nucleus', ]\n",
    "\n",
    "# To extract January\n",
    "\n",
    "months[0]\n",
    "\n",
    "# To extract June\n",
    "\n",
    "months[5]\n",
    "months[-1]"
   ]
  },
  {
   "cell_type": "code",
   "execution_count": null,
   "metadata": {},
   "outputs": [],
   "source": [
    "# To extract February to April\n",
    "\n",
    "months[1:4]"
   ]
  },
  {
   "cell_type": "code",
   "execution_count": null,
   "metadata": {},
   "outputs": [],
   "source": [
    "# Specify end only\n",
    "\n",
    "months[:3]"
   ]
  },
  {
   "cell_type": "code",
   "execution_count": null,
   "metadata": {},
   "outputs": [],
   "source": [
    "# Specify step only \n",
    "months[::2]"
   ]
  },
  {
   "cell_type": "code",
   "execution_count": null,
   "metadata": {},
   "outputs": [],
   "source": [
    "# Reverse\n",
    "months[::-1]"
   ]
  },
  {
   "cell_type": "markdown",
   "metadata": {},
   "source": [
    "## Dictionary\n",
    "\n",
    "Dictionary is similar to a list, but the order of items doesn’t matter, and they aren’t selected by an offset such as 0 or 1. Instead, you specify a unique key to associate with each value. \n",
    "\n",
    "dictionary = { key : item }"
   ]
  },
  {
   "cell_type": "code",
   "execution_count": null,
   "metadata": {},
   "outputs": [],
   "source": [
    "my_dictionary_of_time = {\n",
    "    'second': 1,\n",
    "    'minute': 60,\n",
    "    'hour': 3600,\n",
    "    'day': 'big number'\n",
    "}"
   ]
  },
  {
   "cell_type": "code",
   "execution_count": null,
   "metadata": {},
   "outputs": [],
   "source": [
    "#access values\n",
    "\n",
    "my_dictionary_of_time['minute']"
   ]
  },
  {
   "cell_type": "markdown",
   "metadata": {},
   "source": [
    "## For loops\n",
    "\n",
    "Python makes frequent use of iterators, for good reason. They make it possible for you to traverse data structures without knowing how large they are or how they are implemented. \n",
    "\n",
    "It is possible to loop through:\n",
    "1. Strings\n",
    "2. Integers \n",
    "3. Lists\n",
    "4. Etc"
   ]
  },
  {
   "cell_type": "code",
   "execution_count": null,
   "metadata": {},
   "outputs": [],
   "source": [
    "# Looping through a string\n",
    "\n",
    "sentence = 'BioHackacthon is the Best'\n",
    "\n",
    "for c in sentence:\n",
    "    print(c)"
   ]
  },
  {
   "cell_type": "code",
   "execution_count": null,
   "metadata": {},
   "outputs": [],
   "source": [
    "# Looping through numbers\n",
    "\n",
    "numbers = 15\n",
    "\n",
    "for number in range(numbers):\n",
    "    print(number)\n",
    "    \n",
    "# Looping through numbers with specifications\n",
    "\n",
    "for number in range(5, numbers):\n",
    "    print(number)\n",
    "    \n",
    "for number in range(5, numbers, 2):\n",
    "    print(number)"
   ]
  },
  {
   "cell_type": "code",
   "execution_count": null,
   "metadata": {},
   "outputs": [],
   "source": [
    "# Looping through lists\n",
    "\n",
    "months = ['January', 'February', 'March', 'April', 'May', 'June']\n",
    "\n",
    "for month in months:\n",
    "    print(month)"
   ]
  }
 ],
 "metadata": {
  "kernelspec": {
   "display_name": "Python 3",
   "language": "python",
   "name": "python3"
  },
  "language_info": {
   "codemirror_mode": {
    "name": "ipython",
    "version": 3
   },
   "file_extension": ".py",
   "mimetype": "text/x-python",
   "name": "python",
   "nbconvert_exporter": "python",
   "pygments_lexer": "ipython3",
   "version": "3.8.5"
  }
 },
 "nbformat": 4,
 "nbformat_minor": 4
}
